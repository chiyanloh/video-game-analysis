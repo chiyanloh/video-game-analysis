{
 "cells": [
  {
   "cell_type": "code",
   "execution_count": 1,
   "metadata": {},
   "outputs": [],
   "source": [
    "import numpy as np\n",
    "import pandas as pd\n",
    "import matplotlib.pyplot as plt\n",
    "import os \n",
    "import seaborn as sns"
   ]
  },
  {
   "cell_type": "code",
   "execution_count": 2,
   "metadata": {},
   "outputs": [],
   "source": [
    "vgsales = pd.read_csv(r\"C:\\Users\\yanek\\Desktop\\LinkedIn Learning\\vgsales.csv\")"
   ]
  },
  {
   "cell_type": "code",
   "execution_count": 3,
   "metadata": {},
   "outputs": [
    {
     "data": {
      "text/html": [
       "<div>\n",
       "<style scoped>\n",
       "    .dataframe tbody tr th:only-of-type {\n",
       "        vertical-align: middle;\n",
       "    }\n",
       "\n",
       "    .dataframe tbody tr th {\n",
       "        vertical-align: top;\n",
       "    }\n",
       "\n",
       "    .dataframe thead th {\n",
       "        text-align: right;\n",
       "    }\n",
       "</style>\n",
       "<table border=\"1\" class=\"dataframe\">\n",
       "  <thead>\n",
       "    <tr style=\"text-align: right;\">\n",
       "      <th></th>\n",
       "      <th>Rank</th>\n",
       "      <th>Name</th>\n",
       "      <th>Platform</th>\n",
       "      <th>Year</th>\n",
       "      <th>Genre</th>\n",
       "      <th>Publisher</th>\n",
       "      <th>NA_Sales</th>\n",
       "      <th>EU_Sales</th>\n",
       "      <th>JP_Sales</th>\n",
       "      <th>Other_Sales</th>\n",
       "      <th>Global_Sales</th>\n",
       "    </tr>\n",
       "  </thead>\n",
       "  <tbody>\n",
       "    <tr>\n",
       "      <th>0</th>\n",
       "      <td>1</td>\n",
       "      <td>Wii Sports</td>\n",
       "      <td>Wii</td>\n",
       "      <td>2006.0</td>\n",
       "      <td>Sports</td>\n",
       "      <td>Nintendo</td>\n",
       "      <td>41.49</td>\n",
       "      <td>29.02</td>\n",
       "      <td>3.77</td>\n",
       "      <td>8.46</td>\n",
       "      <td>82.74</td>\n",
       "    </tr>\n",
       "    <tr>\n",
       "      <th>1</th>\n",
       "      <td>2</td>\n",
       "      <td>Super Mario Bros.</td>\n",
       "      <td>NES</td>\n",
       "      <td>1985.0</td>\n",
       "      <td>Platform</td>\n",
       "      <td>Nintendo</td>\n",
       "      <td>29.08</td>\n",
       "      <td>3.58</td>\n",
       "      <td>6.81</td>\n",
       "      <td>0.77</td>\n",
       "      <td>40.24</td>\n",
       "    </tr>\n",
       "    <tr>\n",
       "      <th>2</th>\n",
       "      <td>3</td>\n",
       "      <td>Mario Kart Wii</td>\n",
       "      <td>Wii</td>\n",
       "      <td>2008.0</td>\n",
       "      <td>Racing</td>\n",
       "      <td>Nintendo</td>\n",
       "      <td>15.85</td>\n",
       "      <td>12.88</td>\n",
       "      <td>3.79</td>\n",
       "      <td>3.31</td>\n",
       "      <td>35.82</td>\n",
       "    </tr>\n",
       "    <tr>\n",
       "      <th>3</th>\n",
       "      <td>4</td>\n",
       "      <td>Wii Sports Resort</td>\n",
       "      <td>Wii</td>\n",
       "      <td>2009.0</td>\n",
       "      <td>Sports</td>\n",
       "      <td>Nintendo</td>\n",
       "      <td>15.75</td>\n",
       "      <td>11.01</td>\n",
       "      <td>3.28</td>\n",
       "      <td>2.96</td>\n",
       "      <td>33.00</td>\n",
       "    </tr>\n",
       "    <tr>\n",
       "      <th>4</th>\n",
       "      <td>5</td>\n",
       "      <td>Pokemon Red/Pokemon Blue</td>\n",
       "      <td>GB</td>\n",
       "      <td>1996.0</td>\n",
       "      <td>Role-Playing</td>\n",
       "      <td>Nintendo</td>\n",
       "      <td>11.27</td>\n",
       "      <td>8.89</td>\n",
       "      <td>10.22</td>\n",
       "      <td>1.00</td>\n",
       "      <td>31.37</td>\n",
       "    </tr>\n",
       "  </tbody>\n",
       "</table>\n",
       "</div>"
      ],
      "text/plain": [
       "   Rank                      Name Platform    Year         Genre Publisher  \\\n",
       "0     1                Wii Sports      Wii  2006.0        Sports  Nintendo   \n",
       "1     2         Super Mario Bros.      NES  1985.0      Platform  Nintendo   \n",
       "2     3            Mario Kart Wii      Wii  2008.0        Racing  Nintendo   \n",
       "3     4         Wii Sports Resort      Wii  2009.0        Sports  Nintendo   \n",
       "4     5  Pokemon Red/Pokemon Blue       GB  1996.0  Role-Playing  Nintendo   \n",
       "\n",
       "   NA_Sales  EU_Sales  JP_Sales  Other_Sales  Global_Sales  \n",
       "0     41.49     29.02      3.77         8.46         82.74  \n",
       "1     29.08      3.58      6.81         0.77         40.24  \n",
       "2     15.85     12.88      3.79         3.31         35.82  \n",
       "3     15.75     11.01      3.28         2.96         33.00  \n",
       "4     11.27      8.89     10.22         1.00         31.37  "
      ]
     },
     "execution_count": 3,
     "metadata": {},
     "output_type": "execute_result"
    }
   ],
   "source": [
    "vgsales.head()"
   ]
  },
  {
   "cell_type": "code",
   "execution_count": 4,
   "metadata": {},
   "outputs": [
    {
     "data": {
      "text/plain": [
       "Rank              int64\n",
       "Name             object\n",
       "Platform         object\n",
       "Year            float64\n",
       "Genre            object\n",
       "Publisher        object\n",
       "NA_Sales        float64\n",
       "EU_Sales        float64\n",
       "JP_Sales        float64\n",
       "Other_Sales     float64\n",
       "Global_Sales    float64\n",
       "dtype: object"
      ]
     },
     "execution_count": 4,
     "metadata": {},
     "output_type": "execute_result"
    }
   ],
   "source": [
    "vgsales.dtypes"
   ]
  },
  {
   "cell_type": "code",
   "execution_count": 5,
   "metadata": {},
   "outputs": [
    {
     "name": "stdout",
     "output_type": "stream",
     "text": [
      "Original data size:  16598\n",
      "Cleaned data size:  16291\n"
     ]
    }
   ],
   "source": [
    "print('Original data size: ',len(vgsales))\n",
    "vgsales_new = vgsales.dropna(how='any',axis = 0)\n",
    "print(\"Cleaned data size: \", len(vgsales_new))\n",
    "vgsales = vgsales.dropna(how='any',axis = 0)"
   ]
  },
  {
   "cell_type": "markdown",
   "metadata": {},
   "source": [
    "#### Genre, Type and Platform of Games by Count"
   ]
  },
  {
   "cell_type": "code",
   "execution_count": 8,
   "metadata": {
    "scrolled": false
   },
   "outputs": [
    {
     "data": {
      "image/png": "[encoded data removed]",
      "text/plain": [
       "<Figure size 864x576 with 1 Axes>"
      ]
     },
     "metadata": {
      "needs_background": "light"
     },
     "output_type": "display_data"
    },
    {
     "name": "stdout",
     "output_type": "stream",
     "text": [
      "From the count above, we see that action has the most count of genre, sport is the next.\n"
     ]
    }
   ],
   "source": [
    "genre = pd.DataFrame(vgsales['Genre'].value_counts())\n",
    "genre.plot(kind='bar',figsize = (12,8),title = 'Genre Count',legend = False)\n",
    "\n",
    "a = np.arange(len(vgsales))\n",
    "for index,count in zip(a,genre['Genre']):\n",
    "    plt.text(index,count+20,count,ha='center')\n",
    "    \n",
    "plt.show()\n",
    "print('From the count above, we see that action has the most count of genre, sport is the next.')"
   ]
  },
  {
   "cell_type": "code",
   "execution_count": 10,
   "metadata": {},
   "outputs": [
    {
     "data": {
      "image/png": "[encoded data removed]",
      "text/plain": [
       "<Figure size 1080x432 with 3 Axes>"
      ]
     },
     "metadata": {
      "needs_background": "light"
     },
     "output_type": "display_data"
    },
    {
     "name": "stdout",
     "output_type": "stream",
     "text": [
      "From the graphs above, we see DS and PS2 have the most count of platform; EA and Activison have the most count of publishers.\n"
     ]
    }
   ],
   "source": [
    "f,ax = plt.subplots(1,3,figsize=(15,6))\n",
    "genre = pd.DataFrame(vgsales['Genre'].value_counts()[:5])\n",
    "platform = pd.DataFrame(vgsales['Platform'].value_counts()[:5])\n",
    "publisher = pd.DataFrame(vgsales['Publisher'].value_counts()[:5])\n",
    "\n",
    "genre.plot(kind = 'bar',color = '#9AD0EC',title = 'Count of top 5 Genres',ax=ax[0])\n",
    "for index,count in zip(a,genre['Genre']):\n",
    "    ax[0].text(index,count+30,count,ha='center')\n",
    "\n",
    "platform.plot(kind = 'bar',color = '#E3BEC6',title = 'Count of top 5 Platforms',ax=ax[1])\n",
    "for index,count in zip(a,platform['Platform']):\n",
    "    ax[1].text(index,count+30,count,ha='center')\n",
    "\n",
    "publisher.plot(kind = 'bar',color = '#BCCC9A',title = 'Count of top 5 Publishers',ax=ax[2])\n",
    "for index,count in zip(a,publisher['Publisher']):\n",
    "    ax[2].text(index,count+20,count,ha='center')\n",
    "\n",
    "plt.show()\n",
    "print('From the graphs above, we see DS and PS2 have the most count of platform; EA and Activison have the most count of publishers.')"
   ]
  },
  {
   "cell_type": "markdown",
   "metadata": {},
   "source": [
    "#### Genre, Type and Platform of Games by Sales"
   ]
  },
  {
   "cell_type": "code",
   "execution_count": 11,
   "metadata": {},
   "outputs": [
    {
     "data": {
      "image/png": "[encoded data removed]",
      "text/plain": [
       "<Figure size 1080x504 with 3 Axes>"
      ]
     },
     "metadata": {
      "needs_background": "light"
     },
     "output_type": "display_data"
    },
    {
     "name": "stdout",
     "output_type": "stream",
     "text": [
      "From sum of sales, we see Action is the most popular genre, PS2 is the most popular platform; Nitendo is the most popular publisher.\n"
     ]
    }
   ],
   "source": [
    "f,ax = plt.subplots(1,3,figsize=(15,7))\n",
    "genre = pd.DataFrame(vgsales.groupby('Genre')['Global_Sales'].sum()).sort_values(by='Global_Sales',ascending= False)[:5]\n",
    "platform = pd.DataFrame(vgsales.groupby('Platform')['Global_Sales'].sum()).sort_values(by='Global_Sales',ascending= False)[:5]\n",
    "publisher = pd.DataFrame(vgsales.groupby('Publisher')['Global_Sales'].sum()).sort_values(by='Global_Sales',ascending= False)[:5]\n",
    "\n",
    "genre.plot(kind = 'bar',color = '#9AD0EC',title = 'Sales of top 5 Genres',ax=ax[0])\n",
    "for index,count in zip(a,round(genre['Global_Sales'],2)):\n",
    "    ax[0].text(index,count+20,count,ha='center')\n",
    "\n",
    "platform.plot(kind = 'bar',color = '#E3BEC6',title = 'Sales of top 5 Platforms',ax=ax[1])\n",
    "for index,count in zip(a,round(platform['Global_Sales'],2)):\n",
    "    ax[1].text(index,count+20,count,ha='center')\n",
    "\n",
    "publisher.plot(kind = 'bar',color = '#BCCC9A',title = 'Sales of top 5 Publishers',ax=ax[2])\n",
    "for index,count in zip(a,round(publisher['Global_Sales'],2)):\n",
    "    ax[2].text(index,count+20,count,ha='center')\n",
    "\n",
    "plt.show()\n",
    "print('From sum of sales, we see Action is the most popular genre, PS2 is the most popular platform; Nitendo is the most popular publisher.')"
   ]
  },
  {
   "cell_type": "markdown",
   "metadata": {},
   "source": [
    "#### Genre, Type and Platform of Games by Region"
   ]
  },
  {
   "cell_type": "code",
   "execution_count": 12,
   "metadata": {},
   "outputs": [
    {
     "data": {
      "text/html": [
       "<div>\n",
       "<style scoped>\n",
       "    .dataframe tbody tr th:only-of-type {\n",
       "        vertical-align: middle;\n",
       "    }\n",
       "\n",
       "    .dataframe tbody tr th {\n",
       "        vertical-align: top;\n",
       "    }\n",
       "\n",
       "    .dataframe thead th {\n",
       "        text-align: right;\n",
       "    }\n",
       "</style>\n",
       "<table border=\"1\" class=\"dataframe\">\n",
       "  <thead>\n",
       "    <tr style=\"text-align: right;\">\n",
       "      <th></th>\n",
       "      <th>Genre</th>\n",
       "      <th>NA_Sales</th>\n",
       "    </tr>\n",
       "  </thead>\n",
       "  <tbody>\n",
       "    <tr>\n",
       "      <th>0</th>\n",
       "      <td>Action</td>\n",
       "      <td>861.77</td>\n",
       "    </tr>\n",
       "    <tr>\n",
       "      <th>1</th>\n",
       "      <td>Sports</td>\n",
       "      <td>670.09</td>\n",
       "    </tr>\n",
       "  </tbody>\n",
       "</table>\n",
       "</div>"
      ],
      "text/plain": [
       "    Genre  NA_Sales\n",
       "0  Action    861.77\n",
       "1  Sports    670.09"
      ]
     },
     "metadata": {},
     "output_type": "display_data"
    },
    {
     "data": {
      "text/html": [
       "<div>\n",
       "<style scoped>\n",
       "    .dataframe tbody tr th:only-of-type {\n",
       "        vertical-align: middle;\n",
       "    }\n",
       "\n",
       "    .dataframe tbody tr th {\n",
       "        vertical-align: top;\n",
       "    }\n",
       "\n",
       "    .dataframe thead th {\n",
       "        text-align: right;\n",
       "    }\n",
       "</style>\n",
       "<table border=\"1\" class=\"dataframe\">\n",
       "  <thead>\n",
       "    <tr style=\"text-align: right;\">\n",
       "      <th></th>\n",
       "      <th>Genre</th>\n",
       "      <th>JP_Sales</th>\n",
       "    </tr>\n",
       "  </thead>\n",
       "  <tbody>\n",
       "    <tr>\n",
       "      <th>0</th>\n",
       "      <td>Role-Playing</td>\n",
       "      <td>350.29</td>\n",
       "    </tr>\n",
       "    <tr>\n",
       "      <th>1</th>\n",
       "      <td>Action</td>\n",
       "      <td>158.65</td>\n",
       "    </tr>\n",
       "  </tbody>\n",
       "</table>\n",
       "</div>"
      ],
      "text/plain": [
       "          Genre  JP_Sales\n",
       "0  Role-Playing    350.29\n",
       "1        Action    158.65"
      ]
     },
     "metadata": {},
     "output_type": "display_data"
    },
    {
     "data": {
      "text/html": [
       "<div>\n",
       "<style scoped>\n",
       "    .dataframe tbody tr th:only-of-type {\n",
       "        vertical-align: middle;\n",
       "    }\n",
       "\n",
       "    .dataframe tbody tr th {\n",
       "        vertical-align: top;\n",
       "    }\n",
       "\n",
       "    .dataframe thead th {\n",
       "        text-align: right;\n",
       "    }\n",
       "</style>\n",
       "<table border=\"1\" class=\"dataframe\">\n",
       "  <thead>\n",
       "    <tr style=\"text-align: right;\">\n",
       "      <th></th>\n",
       "      <th>Genre</th>\n",
       "      <th>EU_Sales</th>\n",
       "    </tr>\n",
       "  </thead>\n",
       "  <tbody>\n",
       "    <tr>\n",
       "      <th>0</th>\n",
       "      <td>Action</td>\n",
       "      <td>516.48</td>\n",
       "    </tr>\n",
       "    <tr>\n",
       "      <th>1</th>\n",
       "      <td>Sports</td>\n",
       "      <td>371.34</td>\n",
       "    </tr>\n",
       "  </tbody>\n",
       "</table>\n",
       "</div>"
      ],
      "text/plain": [
       "    Genre  EU_Sales\n",
       "0  Action    516.48\n",
       "1  Sports    371.34"
      ]
     },
     "metadata": {},
     "output_type": "display_data"
    }
   ],
   "source": [
    "df = vgsales.groupby('Genre')[['Global_Sales','EU_Sales','JP_Sales','NA_Sales']].sum().reset_index()\n",
    "\n",
    "df['NA'] = df['NA_Sales']/df['Global_Sales']\n",
    "df['JP'] = df['JP_Sales']/df['Global_Sales']\n",
    "df['EU'] = df['EU_Sales']/df['Global_Sales']\n",
    "\n",
    "display(pd.DataFrame(vgsales.groupby('Genre')['NA_Sales'].sum()).sort_values(by='NA_Sales',ascending= False)[:2].reset_index())\n",
    "display(pd.DataFrame(vgsales.groupby('Genre')['JP_Sales'].sum()).sort_values(by='JP_Sales',ascending= False)[:2].reset_index())\n",
    "display(pd.DataFrame(vgsales.groupby('Genre')['EU_Sales'].sum()).sort_values(by='EU_Sales',ascending= False)[:2].reset_index())"
   ]
  },
  {
   "cell_type": "code",
   "execution_count": 13,
   "metadata": {},
   "outputs": [
    {
     "data": {
      "image/png": "[encoded data removed]",
      "text/plain": [
       "<Figure size 864x576 with 1 Axes>"
      ]
     },
     "metadata": {
      "needs_background": "light"
     },
     "output_type": "display_data"
    },
    {
     "name": "stdout",
     "output_type": "stream",
     "text": [
      "Sales in North America are all above average.\n",
      "Role-Playing genre has more sales in Japan.\n",
      "Action and Sports are more popular in Europe.\n"
     ]
    }
   ],
   "source": [
    "f,ax = plt.subplots(figsize=(12,8))\n",
    "index = np.arange(len(df))\n",
    "\n",
    "plt.bar(index,df.NA,color = '#406882')\n",
    "plt.bar(index,df.JP,bottom = df.NA, color = '#6998AB')\n",
    "plt.bar(index,df.EU,bottom = df.NA, color ='#B1D0E0')\n",
    "\n",
    "plt.xticks(index,df.Genre)\n",
    "plt.title('The Sales Proportion of different Regions')\n",
    "plt.ylabel('Proportion')\n",
    "plt.legend(['NA','JP','EU'],loc='upper center',ncol=3)\n",
    "plt.show()\n",
    "\n",
    "print('Sales in North America are all above average.\\n'\n",
    "      'Role-Playing genre has more sales in Japan.\\n'\n",
    "      'Action and Sports are more popular in Europe.')"
   ]
  },
  {
   "cell_type": "code",
   "execution_count": 14,
   "metadata": {},
   "outputs": [],
   "source": [
    "df = pd.DataFrame()"
   ]
  },
  {
   "cell_type": "code",
   "execution_count": 15,
   "metadata": {},
   "outputs": [
    {
     "data": {
      "text/html": [
       "<div>\n",
       "<style scoped>\n",
       "    .dataframe tbody tr th:only-of-type {\n",
       "        vertical-align: middle;\n",
       "    }\n",
       "\n",
       "    .dataframe tbody tr th {\n",
       "        vertical-align: top;\n",
       "    }\n",
       "\n",
       "    .dataframe thead th {\n",
       "        text-align: right;\n",
       "    }\n",
       "</style>\n",
       "<table border=\"1\" class=\"dataframe\">\n",
       "  <thead>\n",
       "    <tr style=\"text-align: right;\">\n",
       "      <th></th>\n",
       "      <th>Platform</th>\n",
       "      <th>NA_Sales</th>\n",
       "    </tr>\n",
       "  </thead>\n",
       "  <tbody>\n",
       "    <tr>\n",
       "      <th>0</th>\n",
       "      <td>X360</td>\n",
       "      <td>594.33</td>\n",
       "    </tr>\n",
       "    <tr>\n",
       "      <th>1</th>\n",
       "      <td>PS2</td>\n",
       "      <td>572.92</td>\n",
       "    </tr>\n",
       "  </tbody>\n",
       "</table>\n",
       "</div>"
      ],
      "text/plain": [
       "  Platform  NA_Sales\n",
       "0     X360    594.33\n",
       "1      PS2    572.92"
      ]
     },
     "metadata": {},
     "output_type": "display_data"
    },
    {
     "data": {
      "text/html": [
       "<div>\n",
       "<style scoped>\n",
       "    .dataframe tbody tr th:only-of-type {\n",
       "        vertical-align: middle;\n",
       "    }\n",
       "\n",
       "    .dataframe tbody tr th {\n",
       "        vertical-align: top;\n",
       "    }\n",
       "\n",
       "    .dataframe thead th {\n",
       "        text-align: right;\n",
       "    }\n",
       "</style>\n",
       "<table border=\"1\" class=\"dataframe\">\n",
       "  <thead>\n",
       "    <tr style=\"text-align: right;\">\n",
       "      <th></th>\n",
       "      <th>Platform</th>\n",
       "      <th>JP_Sales</th>\n",
       "    </tr>\n",
       "  </thead>\n",
       "  <tbody>\n",
       "    <tr>\n",
       "      <th>0</th>\n",
       "      <td>DS</td>\n",
       "      <td>175.02</td>\n",
       "    </tr>\n",
       "    <tr>\n",
       "      <th>1</th>\n",
       "      <td>PS</td>\n",
       "      <td>139.78</td>\n",
       "    </tr>\n",
       "  </tbody>\n",
       "</table>\n",
       "</div>"
      ],
      "text/plain": [
       "  Platform  JP_Sales\n",
       "0       DS    175.02\n",
       "1       PS    139.78"
      ]
     },
     "metadata": {},
     "output_type": "display_data"
    },
    {
     "data": {
      "text/html": [
       "<div>\n",
       "<style scoped>\n",
       "    .dataframe tbody tr th:only-of-type {\n",
       "        vertical-align: middle;\n",
       "    }\n",
       "\n",
       "    .dataframe tbody tr th {\n",
       "        vertical-align: top;\n",
       "    }\n",
       "\n",
       "    .dataframe thead th {\n",
       "        text-align: right;\n",
       "    }\n",
       "</style>\n",
       "<table border=\"1\" class=\"dataframe\">\n",
       "  <thead>\n",
       "    <tr style=\"text-align: right;\">\n",
       "      <th></th>\n",
       "      <th>Platform</th>\n",
       "      <th>EU_Sales</th>\n",
       "    </tr>\n",
       "  </thead>\n",
       "  <tbody>\n",
       "    <tr>\n",
       "      <th>0</th>\n",
       "      <td>PS3</td>\n",
       "      <td>340.47</td>\n",
       "    </tr>\n",
       "    <tr>\n",
       "      <th>1</th>\n",
       "      <td>PS2</td>\n",
       "      <td>332.63</td>\n",
       "    </tr>\n",
       "  </tbody>\n",
       "</table>\n",
       "</div>"
      ],
      "text/plain": [
       "  Platform  EU_Sales\n",
       "0      PS3    340.47\n",
       "1      PS2    332.63"
      ]
     },
     "metadata": {},
     "output_type": "display_data"
    }
   ],
   "source": [
    "df = vgsales.groupby('Platform')[['Global_Sales','EU_Sales','JP_Sales','NA_Sales']].sum().sort_values(by='Global_Sales',ascending= False)[:12].reset_index()\n",
    "\n",
    "df['NA'] = df['NA_Sales']/df['Global_Sales']\n",
    "df['JP'] = df['JP_Sales']/df['Global_Sales']\n",
    "df['EU'] = df['EU_Sales']/df['Global_Sales']\n",
    "\n",
    "display(pd.DataFrame(vgsales.groupby('Platform')['NA_Sales'].sum()).sort_values(by='NA_Sales',ascending= False)[:2].reset_index())\n",
    "display(pd.DataFrame(vgsales.groupby('Platform')['JP_Sales'].sum()).sort_values(by='JP_Sales',ascending= False)[:2].reset_index())\n",
    "display(pd.DataFrame(vgsales.groupby('Platform')['EU_Sales'].sum()).sort_values(by='EU_Sales',ascending= False)[:2].reset_index())"
   ]
  },
  {
   "cell_type": "code",
   "execution_count": 16,
   "metadata": {},
   "outputs": [
    {
     "data": {
      "image/png": "[encoded data removed]",
      "text/plain": [
       "<Figure size 864x576 with 1 Axes>"
      ]
     },
     "metadata": {
      "needs_background": "light"
     },
     "output_type": "display_data"
    },
    {
     "name": "stdout",
     "output_type": "stream",
     "text": [
      "X360 and PS2 lead the sales in North America.\n",
      "DS and PS lead the sales in Japan.\n",
      "PS3 and PS2 lead the sales in Europe.\n"
     ]
    }
   ],
   "source": [
    "f,ax = plt.subplots(figsize=(12,8))\n",
    "index = np.arange(len(df))\n",
    "\n",
    "plt.bar(index,df.NA,color = '#406882')\n",
    "plt.bar(index,df.JP,bottom = df.NA, color = '#6998AB')\n",
    "plt.bar(index,df.EU,bottom = df.NA, color ='#B1D0E0')\n",
    "\n",
    "plt.xticks(index,df.Platform,rotation=90)\n",
    "plt.title('The Platform Proportion of different Regions')\n",
    "plt.ylabel('Proportion')\n",
    "plt.legend(['NA','JP','EU'],loc='upper center',ncol=3)\n",
    "plt.show()\n",
    "\n",
    "print('X360 and PS2 lead the sales in North America.\\n'\n",
    "      'DS and PS lead the sales in Japan.\\n'\n",
    "      'PS3 and PS2 lead the sales in Europe.')"
   ]
  },
  {
   "cell_type": "code",
   "execution_count": 17,
   "metadata": {},
   "outputs": [],
   "source": [
    "df = pd.DataFrame()"
   ]
  },
  {
   "cell_type": "code",
   "execution_count": 18,
   "metadata": {},
   "outputs": [
    {
     "data": {
      "text/html": [
       "<div>\n",
       "<style scoped>\n",
       "    .dataframe tbody tr th:only-of-type {\n",
       "        vertical-align: middle;\n",
       "    }\n",
       "\n",
       "    .dataframe tbody tr th {\n",
       "        vertical-align: top;\n",
       "    }\n",
       "\n",
       "    .dataframe thead th {\n",
       "        text-align: right;\n",
       "    }\n",
       "</style>\n",
       "<table border=\"1\" class=\"dataframe\">\n",
       "  <thead>\n",
       "    <tr style=\"text-align: right;\">\n",
       "      <th></th>\n",
       "      <th>Publisher</th>\n",
       "      <th>NA</th>\n",
       "    </tr>\n",
       "  </thead>\n",
       "  <tbody>\n",
       "    <tr>\n",
       "      <th>0</th>\n",
       "      <td>Microsoft Game Studios</td>\n",
       "      <td>0.632044</td>\n",
       "    </tr>\n",
       "    <tr>\n",
       "      <th>1</th>\n",
       "      <td>THQ</td>\n",
       "      <td>0.612736</td>\n",
       "    </tr>\n",
       "  </tbody>\n",
       "</table>\n",
       "</div>"
      ],
      "text/plain": [
       "                Publisher        NA\n",
       "0  Microsoft Game Studios  0.632044\n",
       "1                     THQ  0.612736"
      ]
     },
     "metadata": {},
     "output_type": "display_data"
    },
    {
     "data": {
      "text/html": [
       "<div>\n",
       "<style scoped>\n",
       "    .dataframe tbody tr th:only-of-type {\n",
       "        vertical-align: middle;\n",
       "    }\n",
       "\n",
       "    .dataframe tbody tr th {\n",
       "        vertical-align: top;\n",
       "    }\n",
       "\n",
       "    .dataframe thead th {\n",
       "        text-align: right;\n",
       "    }\n",
       "</style>\n",
       "<table border=\"1\" class=\"dataframe\">\n",
       "  <thead>\n",
       "    <tr style=\"text-align: right;\">\n",
       "      <th></th>\n",
       "      <th>Publisher</th>\n",
       "      <th>JP</th>\n",
       "    </tr>\n",
       "  </thead>\n",
       "  <tbody>\n",
       "    <tr>\n",
       "      <th>0</th>\n",
       "      <td>Namco Bandai Games</td>\n",
       "      <td>0.500059</td>\n",
       "    </tr>\n",
       "    <tr>\n",
       "      <th>1</th>\n",
       "      <td>Capcom</td>\n",
       "      <td>0.336984</td>\n",
       "    </tr>\n",
       "  </tbody>\n",
       "</table>\n",
       "</div>"
      ],
      "text/plain": [
       "            Publisher        JP\n",
       "0  Namco Bandai Games  0.500059\n",
       "1              Capcom  0.336984"
      ]
     },
     "metadata": {},
     "output_type": "display_data"
    },
    {
     "data": {
      "text/html": [
       "<div>\n",
       "<style scoped>\n",
       "    .dataframe tbody tr th:only-of-type {\n",
       "        vertical-align: middle;\n",
       "    }\n",
       "\n",
       "    .dataframe tbody tr th {\n",
       "        vertical-align: top;\n",
       "    }\n",
       "\n",
       "    .dataframe thead th {\n",
       "        text-align: right;\n",
       "    }\n",
       "</style>\n",
       "<table border=\"1\" class=\"dataframe\">\n",
       "  <thead>\n",
       "    <tr style=\"text-align: right;\">\n",
       "      <th></th>\n",
       "      <th>Publisher</th>\n",
       "      <th>EU</th>\n",
       "    </tr>\n",
       "  </thead>\n",
       "  <tbody>\n",
       "    <tr>\n",
       "      <th>0</th>\n",
       "      <td>Ubisoft</td>\n",
       "      <td>0.344279</td>\n",
       "    </tr>\n",
       "    <tr>\n",
       "      <th>1</th>\n",
       "      <td>Electronic Arts</td>\n",
       "      <td>0.336001</td>\n",
       "    </tr>\n",
       "  </tbody>\n",
       "</table>\n",
       "</div>"
      ],
      "text/plain": [
       "         Publisher        EU\n",
       "0          Ubisoft  0.344279\n",
       "1  Electronic Arts  0.336001"
      ]
     },
     "metadata": {},
     "output_type": "display_data"
    }
   ],
   "source": [
    "df = vgsales.groupby('Publisher')[['Global_Sales','EU_Sales','JP_Sales','NA_Sales']].sum().sort_values(by='Global_Sales',ascending= False)[:12].reset_index()\n",
    "\n",
    "df['NA'] = df['NA_Sales']/df['Global_Sales']\n",
    "df['JP'] = df['JP_Sales']/df['Global_Sales']\n",
    "df['EU'] = df['EU_Sales']/df['Global_Sales']\n",
    "\n",
    "display(df.groupby('Publisher')[['NA']].sum().sort_values(by='NA',ascending = False).reset_index()[:2])\n",
    "display(df.groupby('Publisher')[['JP']].sum().sort_values(by='JP',ascending = False).reset_index()[:2])\n",
    "display(df.groupby('Publisher')[['EU']].sum().sort_values(by='EU',ascending = False).reset_index()[:2])"
   ]
  },
  {
   "cell_type": "code",
   "execution_count": 19,
   "metadata": {},
   "outputs": [
    {
     "data": {
      "image/png": "[encoded data removed]",
      "text/plain": [
       "<Figure size 864x576 with 1 Axes>"
      ]
     },
     "metadata": {
      "needs_background": "light"
     },
     "output_type": "display_data"
    },
    {
     "name": "stdout",
     "output_type": "stream",
     "text": [
      "Microsoft Game Studios and THQ are more popular in North America.\n",
      "Namco Bandai Games and Capcom are more popular in Japan.\n",
      "Ubisoft and Electronic Arts are more popular in Europe.\n"
     ]
    }
   ],
   "source": [
    "f,ax = plt.subplots(figsize=(12,8))\n",
    "index = np.arange(len(df))\n",
    "\n",
    "plt.bar(index,df.NA,color = '#406882')\n",
    "plt.bar(index,df.JP,bottom = df.NA, color = '#6998AB')\n",
    "plt.bar(index,df.EU,bottom = df.NA, color ='#B1D0E0')\n",
    "\n",
    "plt.xticks(index,df.Publisher,rotation=90)\n",
    "plt.title('The Publisher Proportion of different Regions')\n",
    "plt.ylabel('Proportion')\n",
    "plt.legend(['NA','JP','EU'],loc='upper center',ncol=3)\n",
    "plt.show()\n",
    "\n",
    "print('Microsoft Game Studios and THQ are more popular in North America.\\n'\n",
    "      'Namco Bandai Games and Capcom are more popular in Japan.\\n'\n",
    "      'Ubisoft and Electronic Arts are more popular in Europe.')"
   ]
  }
 ],
 "metadata": {
  "kernelspec": {
   "display_name": "Python 3",
   "language": "python",
   "name": "python3"
  },
  "language_info": {
   "codemirror_mode": {
    "name": "ipython",
    "version": 3
   },
   "file_extension": ".py",
   "mimetype": "text/x-python",
   "name": "python",
   "nbconvert_exporter": "python",
   "pygments_lexer": "ipython3",
   "version": "3.7.4"
  }
 },
 "nbformat": 4,
 "nbformat_minor": 2
}
