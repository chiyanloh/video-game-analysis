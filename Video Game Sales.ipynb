{
 "cells": [
  {
   "cell_type": "code",
   "execution_count": 1,
   "metadata": {},
   "outputs": [],
   "source": [
    "import numpy as np\n",
    "import pandas as pd\n",
    "import matplotlib.pyplot as plt\n",
    "import os \n",
    "import seaborn as sns"
   ]
  },
  {
   "cell_type": "code",
   "execution_count": 2,
   "metadata": {},
   "outputs": [],
   "source": [
    "vgsales = pd.read_csv(r\"C:\\Users\\yanek\\Desktop\\LinkedIn Learning\\vgsales.csv\")"
   ]
  },
  {
   "cell_type": "code",
   "execution_count": 3,
   "metadata": {},
   "outputs": [
    {
     "data": {
      "text/html": [
       "<div>\n",
       "<style scoped>\n",
       "    .dataframe tbody tr th:only-of-type {\n",
       "        vertical-align: middle;\n",
       "    }\n",
       "\n",
       "    .dataframe tbody tr th {\n",
       "        vertical-align: top;\n",
       "    }\n",
       "\n",
       "    .dataframe thead th {\n",
       "        text-align: right;\n",
       "    }\n",
       "</style>\n",
       "<table border=\"1\" class=\"dataframe\">\n",
       "  <thead>\n",
       "    <tr style=\"text-align: right;\">\n",
       "      <th></th>\n",
       "      <th>Rank</th>\n",
       "      <th>Name</th>\n",
       "      <th>Platform</th>\n",
       "      <th>Year</th>\n",
       "      <th>Genre</th>\n",
       "      <th>Publisher</th>\n",
       "      <th>NA_Sales</th>\n",
       "      <th>EU_Sales</th>\n",
       "      <th>JP_Sales</th>\n",
       "      <th>Other_Sales</th>\n",
       "      <th>Global_Sales</th>\n",
       "    </tr>\n",
       "  </thead>\n",
       "  <tbody>\n",
       "    <tr>\n",
       "      <th>0</th>\n",
       "      <td>1</td>\n",
       "      <td>Wii Sports</td>\n",
       "      <td>Wii</td>\n",
       "      <td>2006.0</td>\n",
       "      <td>Sports</td>\n",
       "      <td>Nintendo</td>\n",
       "      <td>41.49</td>\n",
       "      <td>29.02</td>\n",
       "      <td>3.77</td>\n",
       "      <td>8.46</td>\n",
       "      <td>82.74</td>\n",
       "    </tr>\n",
       "    <tr>\n",
       "      <th>1</th>\n",
       "      <td>2</td>\n",
       "      <td>Super Mario Bros.</td>\n",
       "      <td>NES</td>\n",
       "      <td>1985.0</td>\n",
       "      <td>Platform</td>\n",
       "      <td>Nintendo</td>\n",
       "      <td>29.08</td>\n",
       "      <td>3.58</td>\n",
       "      <td>6.81</td>\n",
       "      <td>0.77</td>\n",
       "      <td>40.24</td>\n",
       "    </tr>\n",
       "    <tr>\n",
       "      <th>2</th>\n",
       "      <td>3</td>\n",
       "      <td>Mario Kart Wii</td>\n",
       "      <td>Wii</td>\n",
       "      <td>2008.0</td>\n",
       "      <td>Racing</td>\n",
       "      <td>Nintendo</td>\n",
       "      <td>15.85</td>\n",
       "      <td>12.88</td>\n",
       "      <td>3.79</td>\n",
       "      <td>3.31</td>\n",
       "      <td>35.82</td>\n",
       "    </tr>\n",
       "    <tr>\n",
       "      <th>3</th>\n",
       "      <td>4</td>\n",
       "      <td>Wii Sports Resort</td>\n",
       "      <td>Wii</td>\n",
       "      <td>2009.0</td>\n",
       "      <td>Sports</td>\n",
       "      <td>Nintendo</td>\n",
       "      <td>15.75</td>\n",
       "      <td>11.01</td>\n",
       "      <td>3.28</td>\n",
       "      <td>2.96</td>\n",
       "      <td>33.00</td>\n",
       "    </tr>\n",
       "    <tr>\n",
       "      <th>4</th>\n",
       "      <td>5</td>\n",
       "      <td>Pokemon Red/Pokemon Blue</td>\n",
       "      <td>GB</td>\n",
       "      <td>1996.0</td>\n",
       "      <td>Role-Playing</td>\n",
       "      <td>Nintendo</td>\n",
       "      <td>11.27</td>\n",
       "      <td>8.89</td>\n",
       "      <td>10.22</td>\n",
       "      <td>1.00</td>\n",
       "      <td>31.37</td>\n",
       "    </tr>\n",
       "  </tbody>\n",
       "</table>\n",
       "</div>"
      ],
      "text/plain": [
       "   Rank                      Name Platform    Year         Genre Publisher  \\\n",
       "0     1                Wii Sports      Wii  2006.0        Sports  Nintendo   \n",
       "1     2         Super Mario Bros.      NES  1985.0      Platform  Nintendo   \n",
       "2     3            Mario Kart Wii      Wii  2008.0        Racing  Nintendo   \n",
       "3     4         Wii Sports Resort      Wii  2009.0        Sports  Nintendo   \n",
       "4     5  Pokemon Red/Pokemon Blue       GB  1996.0  Role-Playing  Nintendo   \n",
       "\n",
       "   NA_Sales  EU_Sales  JP_Sales  Other_Sales  Global_Sales  \n",
       "0     41.49     29.02      3.77         8.46         82.74  \n",
       "1     29.08      3.58      6.81         0.77         40.24  \n",
       "2     15.85     12.88      3.79         3.31         35.82  \n",
       "3     15.75     11.01      3.28         2.96         33.00  \n",
       "4     11.27      8.89     10.22         1.00         31.37  "
      ]
     },
     "execution_count": 3,
     "metadata": {},
     "output_type": "execute_result"
    }
   ],
   "source": [
    "vgsales.head()"
   ]
  },
  {
   "cell_type": "code",
   "execution_count": 4,
   "metadata": {},
   "outputs": [
    {
     "data": {
      "text/plain": [
       "Rank              int64\n",
       "Name             object\n",
       "Platform         object\n",
       "Year            float64\n",
       "Genre            object\n",
       "Publisher        object\n",
       "NA_Sales        float64\n",
       "EU_Sales        float64\n",
       "JP_Sales        float64\n",
       "Other_Sales     float64\n",
       "Global_Sales    float64\n",
       "dtype: object"
      ]
     },
     "execution_count": 4,
     "metadata": {},
     "output_type": "execute_result"
    }
   ],
   "source": [
    "vgsales.dtypes"
   ]
  },
  {
   "cell_type": "code",
   "execution_count": null,
   "metadata": {},
   "outputs": [],
   "source": [
    "print('Original data size: ',len(vgsales))\n",
    "vgsales_new = vgsales.dropna(how='any',axis = 0)\n",
    "print(\"Cleaned data size: \", len(vgsales_new))\n",
    "vgsales = vgsales.dropna(how='any',axis = 0)"
   ]
  },
  {
   "cell_type": "markdown",
   "metadata": {},
   "source": [
    "#### Genre, Type and Platform of Games by Count"
   ]
  },
  {
   "cell_type": "code",
   "execution_count": null,
   "metadata": {
    "scrolled": false
   },
   "outputs": [],
   "source": [
    "genre = pd.DataFrame(vgsales['Genre'].value_counts())\n",
    "genre.plot(kind='bar',figsize = (12,8),title = 'Genre Count',legend = False)\n",
    "\n",
    "a = np.arange(len(vgsales))\n",
    "for index,count in zip(a,genre['Genre']):\n",
    "    plt.text(index,count+20,count,ha='center')\n",
    "    \n",
    "print('From the graph below, we see that action has the most count of genre, sport is the next.')\n"
   ]
  },
  {
   "cell_type": "code",
   "execution_count": null,
   "metadata": {},
   "outputs": [],
   "source": [
    "f,ax = plt.subplots(1,3,figsize=(15,6))\n",
    "genre = pd.DataFrame(vgsales['Genre'].value_counts()[:5])\n",
    "platform = pd.DataFrame(vgsales['Platform'].value_counts()[:5])\n",
    "publisher = pd.DataFrame(vgsales['Publisher'].value_counts()[:5])\n",
    "\n",
    "genre.plot(kind = 'bar',color = '#9AD0EC',title = 'Count of top 5 Genres',ax=ax[0])\n",
    "for index,count in zip(a,genre['Genre']):\n",
    "    ax[0].text(index,count+30,count,ha='center')\n",
    "\n",
    "platform.plot(kind = 'bar',color = '#E3BEC6',title = 'Count of top 5 Platforms',ax=ax[1])\n",
    "for index,count in zip(a,platform['Platform']):\n",
    "    ax[1].text(index,count+30,count,ha='center')\n",
    "\n",
    "publisher.plot(kind = 'bar',color = '#BCCC9A',title = 'Count of top 5 Publishers',ax=ax[2])\n",
    "for index,count in zip(a,publisher['Publisher']):\n",
    "    ax[2].text(index,count+20,count,ha='center')\n",
    "\n",
    "print('From the graphs below, we see DS and PS2 have the most count of platform; EA and Activison have the most count of publishers.')"
   ]
  },
  {
   "cell_type": "markdown",
   "metadata": {},
   "source": [
    "#### Genre, Type and Platform of Games by Sales"
   ]
  },
  {
   "cell_type": "code",
   "execution_count": null,
   "metadata": {},
   "outputs": [],
   "source": [
    "f,ax = plt.subplots(1,3,figsize=(15,7))\n",
    "genre = pd.DataFrame(vgsales.groupby('Genre')['Global_Sales'].sum()).sort_values(by='Global_Sales',ascending= False)[:5]\n",
    "platform = pd.DataFrame(vgsales.groupby('Platform')['Global_Sales'].sum()).sort_values(by='Global_Sales',ascending= False)[:5]\n",
    "publisher = pd.DataFrame(vgsales.groupby('Publisher')['Global_Sales'].sum()).sort_values(by='Global_Sales',ascending= False)[:5]\n",
    "\n",
    "genre.plot(kind = 'bar',color = '#9AD0EC',title = 'Sales of top 5 Genres',ax=ax[0])\n",
    "for index,count in zip(a,round(genre['Global_Sales'],2)):\n",
    "    ax[0].text(index,count+20,count,ha='center')\n",
    "\n",
    "platform.plot(kind = 'bar',color = '#E3BEC6',title = 'Sales of top 5 Platforms',ax=ax[1])\n",
    "for index,count in zip(a,round(platform['Global_Sales'],2)):\n",
    "    ax[1].text(index,count+20,count,ha='center')\n",
    "\n",
    "publisher.plot(kind = 'bar',color = '#BCCC9A',title = 'Sales of top 5 Publishers',ax=ax[2])\n",
    "for index,count in zip(a,round(publisher['Global_Sales'],2)):\n",
    "    ax[2].text(index,count+20,count,ha='center')\n",
    "\n",
    "print('From sum of sales, we see Action is the most popular genre, PS2 is the most popular platform; Nitendo is the most popular publisher.')"
   ]
  },
  {
   "cell_type": "markdown",
   "metadata": {},
   "source": [
    "#### Genre, Type and Platform of Games by Region"
   ]
  },
  {
   "cell_type": "code",
   "execution_count": null,
   "metadata": {},
   "outputs": [],
   "source": [
    "df = vgsales.groupby('Genre')[['Global_Sales','EU_Sales','JP_Sales','NA_Sales']].sum().reset_index()\n",
    "\n",
    "df['NA'] = df['NA_Sales']/df['Global_Sales']\n",
    "df['JP'] = df['JP_Sales']/df['Global_Sales']\n",
    "df['EU'] = df['EU_Sales']/df['Global_Sales']\n",
    "\n",
    "display(pd.DataFrame(vgsales.groupby('Genre')['NA_Sales'].sum()).sort_values(by='NA_Sales',ascending= False)[:2].reset_index())\n",
    "display(pd.DataFrame(vgsales.groupby('Genre')['JP_Sales'].sum()).sort_values(by='JP_Sales',ascending= False)[:2].reset_index())\n",
    "display(pd.DataFrame(vgsales.groupby('Genre')['EU_Sales'].sum()).sort_values(by='EU_Sales',ascending= False)[:2].reset_index())"
   ]
  },
  {
   "cell_type": "code",
   "execution_count": null,
   "metadata": {},
   "outputs": [],
   "source": [
    "f,ax = plt.subplots(figsize=(12,8))\n",
    "index = np.arange(len(df))\n",
    "\n",
    "plt.bar(index,df.NA,color = '#406882')\n",
    "plt.bar(index,df.JP,bottom = df.NA, color = '#6998AB')\n",
    "plt.bar(index,df.EU,bottom = df.NA, color ='#B1D0E0')\n",
    "\n",
    "plt.xticks(index,df.Genre)\n",
    "plt.title('The Sales Proportion of different Regions')\n",
    "plt.ylabel('Proportion')\n",
    "plt.legend(['NA','JP','EU'],loc='upper center',ncol=3)\n",
    "plt.show()\n",
    "\n",
    "print('Sales in North America are all above average.\\n'\n",
    "      'Role-Playing genre has more sales in Japan.\\n'\n",
    "      'Action and Sports are more popular in Europe.')"
   ]
  },
  {
   "cell_type": "code",
   "execution_count": null,
   "metadata": {},
   "outputs": [],
   "source": [
    "df = pd.DataFrame()"
   ]
  },
  {
   "cell_type": "code",
   "execution_count": null,
   "metadata": {},
   "outputs": [],
   "source": [
    "df = vgsales.groupby('Platform')[['Global_Sales','EU_Sales','JP_Sales','NA_Sales']].sum().sort_values(by='Global_Sales',ascending= False)[:12].reset_index()\n",
    "\n",
    "df['NA'] = df['NA_Sales']/df['Global_Sales']\n",
    "df['JP'] = df['JP_Sales']/df['Global_Sales']\n",
    "df['EU'] = df['EU_Sales']/df['Global_Sales']\n",
    "\n",
    "display(pd.DataFrame(vgsales.groupby('Platform')['NA_Sales'].sum()).sort_values(by='NA_Sales',ascending= False)[:2].reset_index())\n",
    "display(pd.DataFrame(vgsales.groupby('Platform')['JP_Sales'].sum()).sort_values(by='JP_Sales',ascending= False)[:2].reset_index())\n",
    "display(pd.DataFrame(vgsales.groupby('Platform')['EU_Sales'].sum()).sort_values(by='EU_Sales',ascending= False)[:2].reset_index())"
   ]
  },
  {
   "cell_type": "code",
   "execution_count": null,
   "metadata": {},
   "outputs": [],
   "source": [
    "f,ax = plt.subplots(figsize=(12,8))\n",
    "index = np.arange(len(df))\n",
    "\n",
    "plt.bar(index,df.NA,color = '#406882')\n",
    "plt.bar(index,df.JP,bottom = df.NA, color = '#6998AB')\n",
    "plt.bar(index,df.EU,bottom = df.NA, color ='#B1D0E0')\n",
    "\n",
    "plt.xticks(index,df.Platform,rotation=90)\n",
    "plt.title('The Platform Proportion of different Regions')\n",
    "plt.ylabel('Proportion')\n",
    "plt.legend(['NA','JP','EU'],loc='upper center',ncol=3)\n",
    "plt.show()\n",
    "\n",
    "print('X360 and PS2 lead the sales in North America.\\n'\n",
    "      'DS and PS lead the sales in Japan.\\n'\n",
    "      'PS3 and PS2 lead the sales in Europe.')"
   ]
  },
  {
   "cell_type": "code",
   "execution_count": null,
   "metadata": {},
   "outputs": [],
   "source": [
    "df = pd.DataFrame()"
   ]
  },
  {
   "cell_type": "code",
   "execution_count": null,
   "metadata": {},
   "outputs": [],
   "source": [
    "df = vgsales.groupby('Publisher')[['Global_Sales','EU_Sales','JP_Sales','NA_Sales']].sum().sort_values(by='Global_Sales',ascending= False)[:12].reset_index()\n",
    "\n",
    "df['NA'] = df['NA_Sales']/df['Global_Sales']\n",
    "df['JP'] = df['JP_Sales']/df['Global_Sales']\n",
    "df['EU'] = df['EU_Sales']/df['Global_Sales']\n",
    "\n",
    "display(df.groupby('Publisher')[['NA']].sum().sort_values(by='NA',ascending = False).reset_index()[:2])\n",
    "display(df.groupby('Publisher')[['JP']].sum().sort_values(by='JP',ascending = False).reset_index()[:2])\n",
    "display(df.groupby('Publisher')[['EU']].sum().sort_values(by='EU',ascending = False).reset_index()[:2])"
   ]
  },
  {
   "cell_type": "code",
   "execution_count": null,
   "metadata": {},
   "outputs": [],
   "source": [
    "f,ax = plt.subplots(figsize=(12,8))\n",
    "index = np.arange(len(df))\n",
    "\n",
    "plt.bar(index,df.NA,color = '#406882')\n",
    "plt.bar(index,df.JP,bottom = df.NA, color = '#6998AB')\n",
    "plt.bar(index,df.EU,bottom = df.NA, color ='#B1D0E0')\n",
    "\n",
    "plt.xticks(index,df.Publisher,rotation=90)\n",
    "plt.title('The Publisher Proportion of different Regions')\n",
    "plt.ylabel('Proportion')\n",
    "plt.legend(['NA','JP','EU'],loc='upper center',ncol=3)\n",
    "plt.show()\n",
    "\n",
    "print('Microsoft Game Studios and THQ are more popular in North America.\\n'\n",
    "      'Namco Bandai Games and Capcom are more popular in Japan.\\n'\n",
    "      'Ubisoft and Electronic Arts are more popular in Europe.')"
   ]
  }
 ],
 "metadata": {
  "kernelspec": {
   "display_name": "Python 3",
   "language": "python",
   "name": "python3"
  },
  "language_info": {
   "codemirror_mode": {
    "name": "ipython",
    "version": 3
   },
   "file_extension": ".py",
   "mimetype": "text/x-python",
   "name": "python",
   "nbconvert_exporter": "python",
   "pygments_lexer": "ipython3",
   "version": "3.7.4"
  }
 },
 "nbformat": 4,
 "nbformat_minor": 2
}
